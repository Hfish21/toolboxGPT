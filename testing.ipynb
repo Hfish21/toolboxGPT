{
 "cells": [
  {
   "cell_type": "code",
   "execution_count": 1,
   "metadata": {},
   "outputs": [],
   "source": [
    "import os\n",
    "import openai\n",
    "from pprint import pprint\n",
    "import os \n",
    "\n",
    "openai.api_key = os.getenv(\"OPENAPI_KEY\")"
   ]
  },
  {
   "cell_type": "code",
   "execution_count": 4,
   "metadata": {},
   "outputs": [],
   "source": [
    "class TransformBuilder():\n",
    "    def __init__(self, layers, example_input, example_output):\n",
    "        self.layers = layers if layers else 10\n",
    "        self.example_input = example_input\n",
    "        self.example_output = example_output\n",
    "        self.message_log = [{\n",
    "                \"role\": \"system\", \n",
    "                \"content\": ''' \n",
    "                    You are an AI which writes python scripts to extract transform and load input data into output data. \n",
    "                    I will give you an example of input data and output data. \n",
    "                    You will give me only the code written as a function called data_transform\n",
    "                '''\n",
    "            }]\n",
    "\n",
    "        \n",
    "    def take_step(self, message):\n",
    "        print(self.message_log[-1]['content'])\n",
    "        self.message_log.append({\n",
    "                \"role\": \"user\", \n",
    "                \"content\": message\n",
    "            })\n",
    "    \n",
    "        response = openai.ChatCompletion.create(\n",
    "            model=\"gpt-3.5-turbo\",  # The name of the OpenAI chatbot model to use\n",
    "            messages=self.message_log,   # The conversation history up to this point, as a list of dictionaries\n",
    "            max_tokens=1000,        # The maximum number of tokens (words or subwords) in the generated response\n",
    "            stop=None,              # The stopping sequence for the generated response, if any (not used here)\n",
    "            temperature=0.7,        # The \"creativity\" of the generated response (higher temperature = more creative)\n",
    "        )\n",
    "\n",
    "        self.message_log.append({\"role\": \"assistant\", \"content\": response.choices[0].message.content})\n",
    "\n",
    "    def generate_transform_function(self):\n",
    "\n",
    "        # Make an initial message with the input and output\n",
    "        message = f'''\n",
    "            Input = {str(input_data)}\n",
    "            Ouput = {str(output_data)}\n",
    "        '''\n",
    "\n",
    "        self.message_log = self.take_step(message)\n",
    "        correct = False\n",
    "        i = 0\n",
    "        while correct == False and  i < self.layers:\n",
    "            try: \n",
    "                # Run the suggested code\n",
    "                code = self.message_log[-1]['content'].split(\"```\")[1].replace(\"python\", '')\n",
    "                exec(code)\n",
    "                new_output = data_transform(input_data)\n",
    "\n",
    "                if new_output != output_data:\n",
    "                    message = f'''\n",
    "                        The script you wrote for me did not give the correct output, \n",
    "                        please re-write the script so it has the following output:\n",
    "                        {output_data}\n",
    "                    '''\n",
    "                    self.message_log = self.take_step(message)\n",
    "                    i += 1 \n",
    "                else:\n",
    "                    correct = True\n",
    "\n",
    "                    #TODO - Have the transform builder set its own transform() funtion \n",
    "                    self.data_transform = data_transform\n",
    "\n",
    "                    i += 1 \n",
    "\n",
    "            except Exception as e:\n",
    "                message = f'''\n",
    "                    The script you wrote for me gave me an error when I ran it, the error it gave is:\n",
    "                    {str(e)}\n",
    "                    re-write the script with the error fixed\n",
    "                '''\n",
    "                self.message_log = self.take_step(message)\n",
    "                i += 1 "
   ]
  },
  {
   "cell_type": "code",
   "execution_count": 5,
   "metadata": {},
   "outputs": [
    {
     "name": "stdout",
     "output_type": "stream",
     "text": [
      " \n",
      "                    You are an AI which writes python scripts to extract transform and load input data into output data. \n",
      "                    I will give you an example of input data and output data. \n",
      "                    You will give me only the code written as a function called data_transform\n",
      "                \n"
     ]
    },
    {
     "ename": "TypeError",
     "evalue": "'NoneType' object is not subscriptable",
     "output_type": "error",
     "traceback": [
      "\u001b[0;31m---------------------------------------------------------------------------\u001b[0m",
      "\u001b[0;31mTypeError\u001b[0m                                 Traceback (most recent call last)",
      "Cell \u001b[0;32mIn[4], line 47\u001b[0m, in \u001b[0;36mTransformBuilder.generate_transform_function\u001b[0;34m(self)\u001b[0m\n\u001b[1;32m     45\u001b[0m \u001b[38;5;28;01mtry\u001b[39;00m: \n\u001b[1;32m     46\u001b[0m     \u001b[38;5;66;03m# Run the suggested code\u001b[39;00m\n\u001b[0;32m---> 47\u001b[0m     code \u001b[38;5;241m=\u001b[39m \u001b[38;5;28;43mself\u001b[39;49m\u001b[38;5;241;43m.\u001b[39;49m\u001b[43mmessage_log\u001b[49m\u001b[43m[\u001b[49m\u001b[38;5;241;43m-\u001b[39;49m\u001b[38;5;241;43m1\u001b[39;49m\u001b[43m]\u001b[49m[\u001b[38;5;124m'\u001b[39m\u001b[38;5;124mcontent\u001b[39m\u001b[38;5;124m'\u001b[39m]\u001b[38;5;241m.\u001b[39msplit(\u001b[38;5;124m\"\u001b[39m\u001b[38;5;124m```\u001b[39m\u001b[38;5;124m\"\u001b[39m)[\u001b[38;5;241m1\u001b[39m]\u001b[38;5;241m.\u001b[39mreplace(\u001b[38;5;124m\"\u001b[39m\u001b[38;5;124mpython\u001b[39m\u001b[38;5;124m\"\u001b[39m, \u001b[38;5;124m'\u001b[39m\u001b[38;5;124m'\u001b[39m)\n\u001b[1;32m     48\u001b[0m     exec(code)\n",
      "\u001b[0;31mTypeError\u001b[0m: 'NoneType' object is not subscriptable",
      "\nDuring handling of the above exception, another exception occurred:\n",
      "\u001b[0;31mTypeError\u001b[0m                                 Traceback (most recent call last)",
      "Cell \u001b[0;32mIn[5], line 21\u001b[0m\n\u001b[1;32m      7\u001b[0m output_data \u001b[38;5;241m=\u001b[39m {\n\u001b[1;32m      8\u001b[0m     \u001b[38;5;124m'\u001b[39m\u001b[38;5;124mfirstName\u001b[39m\u001b[38;5;124m'\u001b[39m : \u001b[38;5;124m\"\u001b[39m\u001b[38;5;124mHayden\u001b[39m\u001b[38;5;124m\"\u001b[39m, \n\u001b[1;32m      9\u001b[0m     \u001b[38;5;124m'\u001b[39m\u001b[38;5;124mlastName\u001b[39m\u001b[38;5;124m'\u001b[39m : \u001b[38;5;124m\"\u001b[39m\u001b[38;5;124mSalmon\u001b[39m\u001b[38;5;124m\"\u001b[39m,\n\u001b[0;32m   (...)\u001b[0m\n\u001b[1;32m     16\u001b[0m     }\n\u001b[1;32m     17\u001b[0m }\n\u001b[1;32m     20\u001b[0m model \u001b[38;5;241m=\u001b[39m TransformBuilder(\u001b[38;5;241m10\u001b[39m, input_data, output_data)\n\u001b[0;32m---> 21\u001b[0m \u001b[43mmodel\u001b[49m\u001b[38;5;241;43m.\u001b[39;49m\u001b[43mgenerate_transform_function\u001b[49m\u001b[43m(\u001b[49m\u001b[43m)\u001b[49m\n",
      "Cell \u001b[0;32mIn[4], line 73\u001b[0m, in \u001b[0;36mTransformBuilder.generate_transform_function\u001b[0;34m(self)\u001b[0m\n\u001b[1;32m     67\u001b[0m \u001b[38;5;28;01mexcept\u001b[39;00m \u001b[38;5;167;01mException\u001b[39;00m \u001b[38;5;28;01mas\u001b[39;00m e:\n\u001b[1;32m     68\u001b[0m     message \u001b[38;5;241m=\u001b[39m \u001b[38;5;124mf\u001b[39m\u001b[38;5;124m'''\u001b[39m\n\u001b[1;32m     69\u001b[0m \u001b[38;5;124m        The script you wrote for me gave me an error when I ran it, the error it gave is:\u001b[39m\n\u001b[1;32m     70\u001b[0m \u001b[38;5;124m        \u001b[39m\u001b[38;5;132;01m{\u001b[39;00m\u001b[38;5;28mstr\u001b[39m(e)\u001b[38;5;132;01m}\u001b[39;00m\n\u001b[1;32m     71\u001b[0m \u001b[38;5;124m        re-write the script with the error fixed\u001b[39m\n\u001b[1;32m     72\u001b[0m \u001b[38;5;124m    \u001b[39m\u001b[38;5;124m'''\u001b[39m\n\u001b[0;32m---> 73\u001b[0m     \u001b[38;5;28mself\u001b[39m\u001b[38;5;241m.\u001b[39mmessage_log \u001b[38;5;241m=\u001b[39m \u001b[38;5;28;43mself\u001b[39;49m\u001b[38;5;241;43m.\u001b[39;49m\u001b[43mtake_step\u001b[49m\u001b[43m(\u001b[49m\u001b[43mmessage\u001b[49m\u001b[43m)\u001b[49m\n\u001b[1;32m     74\u001b[0m     i \u001b[38;5;241m+\u001b[39m\u001b[38;5;241m=\u001b[39m \u001b[38;5;241m1\u001b[39m\n",
      "Cell \u001b[0;32mIn[4], line 17\u001b[0m, in \u001b[0;36mTransformBuilder.take_step\u001b[0;34m(self, message)\u001b[0m\n\u001b[1;32m     16\u001b[0m \u001b[38;5;28;01mdef\u001b[39;00m \u001b[38;5;21mtake_step\u001b[39m(\u001b[38;5;28mself\u001b[39m, message):\n\u001b[0;32m---> 17\u001b[0m     \u001b[38;5;28mprint\u001b[39m(\u001b[38;5;28;43mself\u001b[39;49m\u001b[38;5;241;43m.\u001b[39;49m\u001b[43mmessage_log\u001b[49m\u001b[43m[\u001b[49m\u001b[38;5;241;43m-\u001b[39;49m\u001b[38;5;241;43m1\u001b[39;49m\u001b[43m]\u001b[49m[\u001b[38;5;124m'\u001b[39m\u001b[38;5;124mcontent\u001b[39m\u001b[38;5;124m'\u001b[39m])\n\u001b[1;32m     18\u001b[0m     \u001b[38;5;28mself\u001b[39m\u001b[38;5;241m.\u001b[39mmessage_log\u001b[38;5;241m.\u001b[39mappend({\n\u001b[1;32m     19\u001b[0m             \u001b[38;5;124m\"\u001b[39m\u001b[38;5;124mrole\u001b[39m\u001b[38;5;124m\"\u001b[39m: \u001b[38;5;124m\"\u001b[39m\u001b[38;5;124muser\u001b[39m\u001b[38;5;124m\"\u001b[39m, \n\u001b[1;32m     20\u001b[0m             \u001b[38;5;124m\"\u001b[39m\u001b[38;5;124mcontent\u001b[39m\u001b[38;5;124m\"\u001b[39m: message\n\u001b[1;32m     21\u001b[0m         })\n\u001b[1;32m     23\u001b[0m     response \u001b[38;5;241m=\u001b[39m openai\u001b[38;5;241m.\u001b[39mChatCompletion\u001b[38;5;241m.\u001b[39mcreate(\n\u001b[1;32m     24\u001b[0m         model\u001b[38;5;241m=\u001b[39m\u001b[38;5;124m\"\u001b[39m\u001b[38;5;124mgpt-3.5-turbo\u001b[39m\u001b[38;5;124m\"\u001b[39m,  \u001b[38;5;66;03m# The name of the OpenAI chatbot model to use\u001b[39;00m\n\u001b[1;32m     25\u001b[0m         messages\u001b[38;5;241m=\u001b[39m\u001b[38;5;28mself\u001b[39m\u001b[38;5;241m.\u001b[39mmessage_log,   \u001b[38;5;66;03m# The conversation history up to this point, as a list of dictionaries\u001b[39;00m\n\u001b[0;32m   (...)\u001b[0m\n\u001b[1;32m     28\u001b[0m         temperature\u001b[38;5;241m=\u001b[39m\u001b[38;5;241m0.7\u001b[39m,        \u001b[38;5;66;03m# The \"creativity\" of the generated response (higher temperature = more creative)\u001b[39;00m\n\u001b[1;32m     29\u001b[0m     )\n",
      "\u001b[0;31mTypeError\u001b[0m: 'NoneType' object is not subscriptable"
     ]
    }
   ],
   "source": [
    "input_data = {\n",
    "    'firstname' : 'Hayden', \n",
    "    'lastname' : 'Salmon',\n",
    "    'address' : \"3227 Gardner Road, Lakeland Florida 33810\"\n",
    "}\n",
    "\n",
    "output_data = {\n",
    "    'firstName' : \"Hayden\", \n",
    "    'lastName' : \"Salmon\",\n",
    "    'fullname' : \"Hayden Salmon\",\n",
    "    'address' : {\n",
    "        \"street\" : \"3227 Gardner Road\",\n",
    "        \"city\" : \"Lakeland\",\n",
    "        \"state\" : \"Florida\",\n",
    "        \"zip\" : \"33810\"\n",
    "    }\n",
    "}\n",
    "\n",
    "\n",
    "model = TransformBuilder(10, input_data, output_data)\n",
    "model.generate_transform_function()"
   ]
  },
  {
   "cell_type": "code",
   "execution_count": null,
   "metadata": {},
   "outputs": [],
   "source": []
  }
 ],
 "metadata": {
  "interpreter": {
   "hash": "18789059a35098bd14bdd2f12e7806c4587db80d4e5d89fc7ab089f6c866d23e"
  },
  "kernelspec": {
   "display_name": "Python 3.8.10 ('venv': venv)",
   "language": "python",
   "name": "python3"
  },
  "language_info": {
   "codemirror_mode": {
    "name": "ipython",
    "version": 3
   },
   "file_extension": ".py",
   "mimetype": "text/x-python",
   "name": "python",
   "nbconvert_exporter": "python",
   "pygments_lexer": "ipython3",
   "version": "3.8.10"
  },
  "orig_nbformat": 4,
  "vscode": {
   "interpreter": {
    "hash": "18789059a35098bd14bdd2f12e7806c4587db80d4e5d89fc7ab089f6c866d23e"
   }
  }
 },
 "nbformat": 4,
 "nbformat_minor": 2
}
